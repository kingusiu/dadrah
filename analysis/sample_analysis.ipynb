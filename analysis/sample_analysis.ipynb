{
 "cells": [
  {
   "cell_type": "code",
   "execution_count": 21,
   "metadata": {},
   "outputs": [],
   "source": [
    "import os\n",
    "from recordtype import recordtype\n",
    "import numpy as np\n",
    "import matplotlib.pyplot as plt\n",
    "from sklearn import preprocessing\n",
    "import tensorflow as tf\n",
    "\n",
    "import pofah.jet_sample as jesa\n",
    "import dadrah.util.run_paths as runpa\n",
    "import dadrah.selection.anomaly_score_strategy as ansc\n",
    "import dadrah.util.string_constants as stco\n",
    "import dadrah.util.logging as log"
   ]
  },
  {
   "cell_type": "code",
   "execution_count": 22,
   "metadata": {},
   "outputs": [],
   "source": [
    "def normalize_data(x_train):\n",
    "    mu = np.mean(x_train)\n",
    "    std = np.std(x_train)\n",
    "    def normalize(x):\n",
    "        return (x-mu)/std\n",
    "    return normalize"
   ]
  },
  {
   "cell_type": "code",
   "execution_count": 23,
   "metadata": {},
   "outputs": [],
   "source": [
    "def min_max_normalize_data(x_train):\n",
    "    min_x = np.min(x_train)\n",
    "    max_x = np.max(x_train)\n",
    "    def normalize(x):\n",
    "        return (x-min_x)/(max_x-min_x)\n",
    "    return normalize"
   ]
  },
  {
   "cell_type": "code",
   "execution_count": 24,
   "metadata": {},
   "outputs": [],
   "source": [
    "def plot_data(x_train, x_test, y_train, y_test, plot_suffix='', fig_dir='fig'):\n",
    "\n",
    "    fig, axs = plt.subplots(1,2,figsize=(8,4))\n",
    "    \n",
    "    ax_x, ax_y = axs.flat\n",
    "    \n",
    "    bins, lw = 70, 1.6\n",
    "    density = False\n",
    "\n",
    "    ax_x.hist(x_train, bins=bins, density=density, histtype='step', label='x train', lw=lw)\n",
    "    ax_x.hist(x_test, bins=bins, density=density, histtype='step', label='x test', lw=lw)\n",
    "    ax_y.hist(y_train, bins=bins, density=density, histtype='step', label='y train', lw=lw)\n",
    "    ax_y.hist(y_test, bins=bins, density=density, histtype='step', label='y test', lw=lw)\n",
    "\n",
    "    ax_x.set_xlabel('mJJ')\n",
    "    ax_y.set_xlabel('anomaly score')\n",
    "    ax_x.set_yscale('log')\n",
    "    ax_y.set_yscale('log')\n",
    "    \n",
    "    ax_x.legend()\n",
    "    ax_y.legend()\n",
    "    plt.show()\n",
    "    plt.savefig(os.path.join(fig_dir,'x_y_distributions'+plot_suffix+'.png'))"
   ]
  },
  {
   "cell_type": "code",
   "execution_count": 25,
   "metadata": {},
   "outputs": [],
   "source": [
    "train_split = 0.3\n",
    "\n",
    "Parameters = recordtype('Parameters','vae_run_n, qr_run_n, qcd_train_sample_id, qcd_test_sample_id, sig_sample_id, strategy_id, epochs, read_n, qr_model_t')\n",
    "params = Parameters(\n",
    "                vae_run_n=113,\n",
    "                qr_run_n=111,\n",
    "                qcd_train_sample_id='qcdSigAllTrain'+str(int(train_split*100))+'pct', \n",
    "                qcd_test_sample_id='qcdSigAllTest'+str(int((1-train_split)*100))+'pct',\n",
    "                sig_sample_id='GtoWW35naReco',\n",
    "                strategy_id='rk5_05',\n",
    "                epochs=100,\n",
    "                read_n=None, #int(1e6),\n",
    "                qr_model_t=stco.QR_Model.DENSE,\n",
    "                )\n",
    "fig_dir = '../fig/sample_analysis'"
   ]
  },
  {
   "cell_type": "code",
   "execution_count": 26,
   "metadata": {},
   "outputs": [],
   "source": [
    "sig_xsec = 0.\n",
    "in_train_path_ext_dict = {'run': str(params.vae_run_n), 'qcd_sqrtshatTeV_13TeV_PU40_NEW_ALL_Train_signalregion_parts': None}\n",
    "in_test_path_ext_dict = {'run': str(params.vae_run_n), 'qcd_sqrtshatTeV_13TeV_PU40_NEW_ALL_Test_signalregion_parts': None}\n",
    "\n",
    "### paths ###\n",
    "\n",
    "# data inputs (mjj & vae-scores): /eos/user/k/kiwoznia/data/VAE_results/events/run_$vae_run_n$\n",
    "# model outputs: /eos/home-k/kiwoznia/data/QR_models/vae_run_$run_n_vae$/qr_run_$run_n_qr$\n",
    "# data outputs (selections [0/1] per quantile): /eos/user/k/kiwoznia/data/QR_results/events/\n",
    "\n",
    "paths_train = runpa.RunPaths(in_data_dir=stco.dir_path_dict['base_dir_vae_results_qcd_train'], in_data_names=stco.file_name_path_dict, out_data_dir=stco.dir_path_dict['base_dir_qr_selections'])\n",
    "paths_train.extend_in_path_data(in_train_path_ext_dict)\n",
    "paths_test = runpa.RunPaths(in_data_dir=stco.dir_path_dict['base_dir_vae_results_qcd_train'], in_data_names=stco.file_name_path_dict, out_data_dir=stco.dir_path_dict['base_dir_qr_selections'])\n",
    "paths_test.extend_in_path_data(in_test_path_ext_dict)\n"
   ]
  },
  {
   "cell_type": "code",
   "execution_count": 27,
   "metadata": {},
   "outputs": [
    {
     "name": "stdout",
     "output_type": "stream",
     "text": [
      "read 2876909 train samples from /eos/user/k/kiwoznia/data/VAE_results/events/run_113/qcd_sqrtshatTeV_13TeV_PU40_NEW_ALL_Train_signalregion_parts/qcd_sqrtshatTeV_13TeV_PU40_NEW_ALL_Train_30.h5\n",
      "read 6712789 test samples from /eos/user/k/kiwoznia/data/VAE_results/events/run_113/qcd_sqrtshatTeV_13TeV_PU40_NEW_ALL_Test_signalregion_parts/qcd_sqrtshatTeV_13TeV_PU40_NEW_ALL_Test_70.h5 \n"
     ]
    }
   ],
   "source": [
    "#****************************************#\n",
    "#           read in qcd data\n",
    "#****************************************#\n",
    "\n",
    "qcd_train_sample = jesa.JetSample.from_input_file(params.qcd_train_sample_id, paths_train.in_file_path(params.qcd_train_sample_id), read_n=params.read_n) \n",
    "qcd_test_sample = jesa.JetSample.from_input_file(params.qcd_test_sample_id, paths_test.in_file_path(params.qcd_test_sample_id), read_n=params.read_n)\n",
    "print('read {} train samples from {}'.format(len(qcd_train_sample),paths_train.in_file_path(params.qcd_train_sample_id)))\n",
    "print('read {} test samples from {} '.format(len(qcd_test_sample),paths_test.in_file_path(params.qcd_test_sample_id)))"
   ]
  },
  {
   "cell_type": "code",
   "execution_count": 28,
   "metadata": {},
   "outputs": [],
   "source": [
    "#****************************************#\n",
    "#           prepare inputs & targets\n",
    "#****************************************#\n",
    "score_strategy = ansc.an_score_strategy_dict[params.strategy_id]\n",
    "x_train, x_test = qcd_train_sample['mJJ'], qcd_test_sample['mJJ']\n",
    "y_train, y_test = score_strategy(qcd_train_sample), score_strategy(qcd_test_sample) "
   ]
  },
  {
   "cell_type": "code",
   "execution_count": 29,
   "metadata": {},
   "outputs": [
    {
     "data": {
      "image/png": "[encoded data removed]",
      "text/plain": [
       "<Figure size 576x288 with 2 Axes>"
      ]
     },
     "metadata": {
      "needs_background": "light"
     },
     "output_type": "display_data"
    },
    {
     "data": {
      "text/plain": [
       "<Figure size 432x288 with 0 Axes>"
      ]
     },
     "metadata": {},
     "output_type": "display_data"
    }
   ],
   "source": [
    "plot_data(x_train, x_test, y_train, y_test, fig_dir=fig_dir)"
   ]
  },
  {
   "cell_type": "code",
   "execution_count": 30,
   "metadata": {},
   "outputs": [
    {
     "data": {
      "text/plain": [
       "872"
      ]
     },
     "execution_count": 30,
     "metadata": {},
     "output_type": "execute_result"
    }
   ],
   "source": [
    "sum(x_train > 4000.)"
   ]
  },
  {
   "cell_type": "code",
   "execution_count": 31,
   "metadata": {},
   "outputs": [],
   "source": [
    "# set up std normalizations\n",
    "norm_x_std = preprocessing.StandardScaler()\n",
    "norm_y_std = preprocessing.StandardScaler()\n",
    "\n",
    "x_train_std, x_test_std = norm_x_std.fit_transform(x_train.reshape(-1,1)).squeeze(), norm_x_std.transform(x_test.reshape(-1,1)).squeeze()\n",
    "y_train_std, y_test_std = norm_y_std.fit_transform(y_train.reshape(-1,1)).squeeze(), norm_y_std.transform(y_test.reshape(-1,1)).squeeze()"
   ]
  },
  {
   "cell_type": "code",
   "execution_count": 32,
   "metadata": {},
   "outputs": [
    {
     "data": {
      "image/png": "[encoded data removed]",
      "text/plain": [
       "<Figure size 576x288 with 2 Axes>"
      ]
     },
     "metadata": {
      "needs_background": "light"
     },
     "output_type": "display_data"
    },
    {
     "data": {
      "text/plain": [
       "<Figure size 432x288 with 0 Axes>"
      ]
     },
     "metadata": {},
     "output_type": "display_data"
    }
   ],
   "source": [
    "plot_data(x_train_std, x_test_std, y_train_std, y_test_std, plot_suffix='std_normed', fig_dir=fig_dir)"
   ]
  },
  {
   "cell_type": "code",
   "execution_count": 33,
   "metadata": {},
   "outputs": [],
   "source": [
    "# set up min max normalizations\n",
    "norm_x_mima = preprocessing.MinMaxScaler()\n",
    "norm_y_mima = preprocessing.MinMaxScaler()\n",
    "\n",
    "x_train_mima, x_test_mima = norm_x_mima.fit_transform(x_train.reshape(-1,1)).squeeze(), norm_x_mima.transform(x_test.reshape(-1,1)).squeeze()\n",
    "y_train_mima, y_test_mima = norm_y_mima.fit_transform(y_train.reshape(-1,1)).squeeze(), norm_y_mima.transform(y_test.reshape(-1,1)).squeeze()"
   ]
  },
  {
   "cell_type": "code",
   "execution_count": 34,
   "metadata": {},
   "outputs": [
    {
     "data": {
      "image/png": "[encoded data removed]",
      "text/plain": [
       "<Figure size 576x288 with 2 Axes>"
      ]
     },
     "metadata": {
      "needs_background": "light"
     },
     "output_type": "display_data"
    },
    {
     "data": {
      "text/plain": [
       "<Figure size 432x288 with 0 Axes>"
      ]
     },
     "metadata": {},
     "output_type": "display_data"
    }
   ],
   "source": [
    "plot_data(x_train_mima, x_test_mima, y_train_mima, y_test_mima, plot_suffix='minmax_normed', fig_dir=fig_dir)"
   ]
  },
  {
   "cell_type": "code",
   "execution_count": 35,
   "metadata": {},
   "outputs": [],
   "source": [
    "tr4k = norm_x_mima.transform([[4000.]])[0][0]"
   ]
  },
  {
   "cell_type": "code",
   "execution_count": 36,
   "metadata": {},
   "outputs": [
    {
     "data": {
      "text/plain": [
       "0.5238144141621888"
      ]
     },
     "execution_count": 36,
     "metadata": {},
     "output_type": "execute_result"
    }
   ],
   "source": [
    "tr4k"
   ]
  },
  {
   "cell_type": "code",
   "execution_count": 38,
   "metadata": {},
   "outputs": [
    {
     "data": {
      "text/plain": [
       "872"
      ]
     },
     "execution_count": 38,
     "metadata": {},
     "output_type": "execute_result"
    }
   ],
   "source": [
    "sum(x_train_mima > tr4k)"
   ]
  },
  {
   "cell_type": "markdown",
   "metadata": {},
   "source": [
    "# analyzing batched tf dataset"
   ]
  },
  {
   "cell_type": "code",
   "execution_count": 42,
   "metadata": {},
   "outputs": [],
   "source": [
    "train_dataset = tf.data.Dataset.from_tensor_slices(x_train_mima)"
   ]
  },
  {
   "cell_type": "code",
   "execution_count": 43,
   "metadata": {},
   "outputs": [
    {
     "data": {
      "text/plain": [
       "872"
      ]
     },
     "execution_count": 43,
     "metadata": {},
     "output_type": "execute_result"
    }
   ],
   "source": [
    "sum(list(train_dataset.as_numpy_iterator())>tr4k)"
   ]
  },
  {
   "cell_type": "code",
   "execution_count": 40,
   "metadata": {},
   "outputs": [
    {
     "name": "stdout",
     "output_type": "stream",
     "text": [
      "0.023366332 0.019639984\n",
      "0.0076019466 0.03586421\n",
      "0.040346026 0.039125107\n",
      "0.07945734 0.06852854\n",
      "0.0073760003 0.045391805\n"
     ]
    }
   ],
   "source": [
    "for x,y in train_dataset.take(5).as_numpy_iterator():\n",
    "    print(x,y)"
   ]
  },
  {
   "cell_type": "code",
   "execution_count": null,
   "metadata": {},
   "outputs": [],
   "source": []
  }
 ],
 "metadata": {
  "kernelspec": {
   "display_name": "Python 3",
   "language": "python",
   "name": "python3"
  },
  "language_info": {
   "codemirror_mode": {
    "name": "ipython",
    "version": 3
   },
   "file_extension": ".py",
   "mimetype": "text/x-python",
   "name": "python",
   "nbconvert_exporter": "python",
   "pygments_lexer": "ipython3",
   "version": "3.6.8"
  }
 },
 "nbformat": 4,
 "nbformat_minor": 2
}
