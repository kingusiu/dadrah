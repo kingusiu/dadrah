{
 "cells": [
  {
   "cell_type": "code",
   "execution_count": 1,
   "metadata": {},
   "outputs": [],
   "source": [
    "import numpy as np\n",
    "import matplotlib.pyplot as plt\n",
    "from recordtype import recordtype\n",
    "import json\n",
    "\n",
    "import dadrah.kfold_pipeline.kfold_string_constants as kstco"
   ]
  },
  {
   "cell_type": "code",
   "execution_count": 6,
   "metadata": {},
   "outputs": [],
   "source": [
    "Parameters = recordtype('Parameters','qr_run_n, env_run_n')\n",
    "params_x0 = Parameters(qr_run_n=412,\n",
    "                      env_run_n=0)\n",
    "params_x100 = Parameters(qr_run_n=612,\n",
    "                      env_run_n=0)\n",
    "kfold_n = 5"
   ]
  },
  {
   "cell_type": "code",
   "execution_count": 7,
   "metadata": {},
   "outputs": [],
   "source": [
    "env_x0 = kstco.get_envelope_dir(params_x0) # load envelope path\n",
    "env_x100 = kstco.get_envelope_dir(params_x100)"
   ]
  },
  {
   "cell_type": "code",
   "execution_count": 8,
   "metadata": {},
   "outputs": [],
   "source": [
    "bin_idx, mu_idx, rmse_idx, min_idx, max_idx = range(5)"
   ]
  },
  {
   "cell_type": "code",
   "execution_count": 9,
   "metadata": {},
   "outputs": [],
   "source": [
    "# read xsec0 envelope \n",
    "envelope_per_fold_x0 = {}\n",
    "for k in range(1,kfold_n+2): # k: 1-6\n",
    "    envelope_json_path = kstco.get_envelope_file(params_x0,k)\n",
    "    ff = open(envelope_json_path)\n",
    "    envelope_per_fold_x0['fold_{}'.format(k)] = json.load(ff)"
   ]
  },
  {
   "cell_type": "code",
   "execution_count": 10,
   "metadata": {},
   "outputs": [],
   "source": [
    "# read xsec100 envelope \n",
    "envelope_per_fold_x100 = {}\n",
    "for k in range(1,kfold_n+2): # k: 1-6\n",
    "    envelope_json_path = kstco.get_envelope_file(params_x100,k)\n",
    "    ff = open(envelope_json_path)\n",
    "    envelope_per_fold_x100['fold_{}'.format(k)] = json.load(ff)"
   ]
  },
  {
   "cell_type": "code",
   "execution_count": 14,
   "metadata": {},
   "outputs": [],
   "source": [
    "q_str = str(0.5)\n",
    "fold_str = 'fold_{}'.format(2)\n",
    "\n",
    "bins = np.asarray(envelope_per_fold_x0[fold_str][q_str])[:,bin_idx]\n",
    "mu_x0 = np.asarray(envelope_per_fold_x0[fold_str][q_str])[:,mu_idx][bins<6000]\n",
    "mu_x100 = np.asarray(envelope_per_fold_x100[fold_str][q_str])[:,mu_idx][bins<6000]"
   ]
  },
  {
   "cell_type": "code",
   "execution_count": 26,
   "metadata": {},
   "outputs": [
    {
     "data": {
      "text/plain": [
       "<matplotlib.legend.Legend at 0x7fae4e9c2400>"
      ]
     },
     "execution_count": 26,
     "metadata": {},
     "output_type": "execute_result"
    },
    {
     "data": {
      "image/png": "[encoded data removed]",
      "text/plain": [
       "<Figure size 432x288 with 1 Axes>"
      ]
     },
     "metadata": {
      "needs_background": "light"
     },
     "output_type": "display_data"
    }
   ],
   "source": [
    "plt.plot(bins[bins<6000],((mu_x0-mu_x100)/mu_x0)*100, label='err')\n",
    "plt.plot(bins[bins<6000],np.abs((mu_x0-mu_x100)/mu_x0)*100, label='abs err')\n",
    "plt.ylabel('rel err %')\n",
    "plt.axhline(y=0, linestyle='--', c='k')\n",
    "plt.legend()"
   ]
  },
  {
   "cell_type": "code",
   "execution_count": null,
   "metadata": {},
   "outputs": [],
   "source": []
  }
 ],
 "metadata": {
  "kernelspec": {
   "display_name": "Python 3",
   "language": "python",
   "name": "python3"
  },
  "language_info": {
   "codemirror_mode": {
    "name": "ipython",
    "version": 3
   },
   "file_extension": ".py",
   "mimetype": "text/x-python",
   "name": "python",
   "nbconvert_exporter": "python",
   "pygments_lexer": "ipython3",
   "version": "3.6.8"
  }
 },
 "nbformat": 4,
 "nbformat_minor": 2
}
